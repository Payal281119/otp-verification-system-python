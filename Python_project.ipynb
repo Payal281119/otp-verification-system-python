{
  "cells": [
    {
      "cell_type": "code",
      "source": [
        "# OTP Verification System - Python Capstone Project\n",
        "# Import all important libraries\n",
        "\n",
        "import random\n",
        "import smtplib\n",
        "import ssl\n",
        "from email.message import EmailMessage\n",
        "\n",
        "# -------------------------------------------\n",
        "# Step 1: Generate a dynamic 6-digit OTP\n",
        "# -------------------------------------------\n",
        "\n",
        "def generate_otp():\n",
        "    otp = random.randint(100000, 999999)\n",
        "    return str(otp)"
      ],
      "metadata": {
        "id": "I9iD3CCNvpgV"
      },
      "execution_count": null,
      "outputs": []
    },
    {
      "cell_type": "code",
      "source": [
        "import random\n",
        "import smtplib\n",
        "import ssl\n",
        "from email.message import EmailMessage"
      ],
      "metadata": {
        "id": "Udf7eBKsx1S8"
      },
      "execution_count": null,
      "outputs": []
    },
    {
      "cell_type": "markdown",
      "source": [
        "def generate_otp():\n",
        "    otp = random.randint(100000, 999999)\n",
        "    return str(otp)"
      ],
      "metadata": {
        "id": "EhweJYc4vqE0"
      }
    },
    {
      "cell_type": "code",
      "source": [
        "import numpy as np  # For generating a random OTP\n",
        "import smtplib      # For sending email using SMTP\n",
        "from email.mime.text import MIMEText  # For formatting the email message\n",
        "from getpass import getpass"
      ],
      "metadata": {
        "id": "A41P15LMzBEZ"
      },
      "execution_count": 2,
      "outputs": []
    },
    {
      "cell_type": "code",
      "source": [
        "# generating OTP\n",
        "def Generate_otp():\n",
        "    OTP = np.random.randint(100000, 999999)  # Generate a random integer between 100000 and 999999\n",
        "    return str(OTP)"
      ],
      "metadata": {
        "id": "lD6BJFtX_-jT"
      },
      "execution_count": 3,
      "outputs": []
    },
    {
      "cell_type": "code",
      "source": [
        " # Function to send the OTP email to the recipient\n",
        "def send_otp_to_email(otp, sender_email, sender_password, recipient_email):\n",
        "    # Creating the email content\n",
        "    msg = MIMEText(f\"Your OTP is: {otp}\")\n",
        "    msg[\"Subject\"] = \"OTP Verification\"\n",
        "    msg[\"From\"] = sender_email\n",
        "    msg[\"To\"] = recipient_email\n",
        "\n",
        "    try:\n",
        "        # Connect to Gmail's SMTP server and send the email\n",
        "        with smtplib.SMTP(\"smtp.gmail.com\", 587) as server:\n",
        "            server.starttls()  # Upgrade to secure connection\n",
        "            server.login(sender_email, sender_password)  # Login using credentials\n",
        "            server.send_message(msg)\n",
        "            print(\"✅ OTP sent successfully.\")\n",
        "    except Exception as e:\n",
        "        print(\"❌ Failed to send email:\", e)"
      ],
      "metadata": {
        "id": "zi29HUi_AF29"
      },
      "execution_count": 4,
      "outputs": []
    },
    {
      "cell_type": "code",
      "source": [
        "# Function to prompt the user to enter the received OTP\n",
        "def prompt_to_enter_otp():\n",
        "    return input(\"Enter the OTP you received: \")"
      ],
      "metadata": {
        "id": "cBCFwaViAO_b"
      },
      "execution_count": 5,
      "outputs": []
    },
    {
      "cell_type": "code",
      "source": [
        "# Function to verify if the entered OTP matches the generated one\n",
        "def verify_otp(generated_otp, entered_otp):\n",
        "    return generated_otp == entered_otp"
      ],
      "metadata": {
        "id": "_JRwJCP8BMC5"
      },
      "execution_count": 6,
      "outputs": []
    },
    {
      "cell_type": "code",
      "source": [
        "# Function to handle the OTP verification process\n",
        "def otp_verification():\n",
        "    print(\"OTP Verification\\n\")\n",
        "\n",
        "    # Get sender and recipient email credentials\n",
        "    sender_email = input(\"Enter your Gmail address: \")\n",
        "    sender_password = getpass(\"Enter your Gmail app password: \")\n",
        "    recipient_email = input(\"Enter the recipient's email address: \")\n",
        "\n",
        "    # Generate and send the OTP\n",
        "    otp = Generate_otp()\n",
        "    send_otp_to_email(otp, sender_email, sender_password, recipient_email)\n",
        "\n",
        "    # Allow up to 3 attempts to enter the correct OTP\n",
        "    for attempts_left in range(3, 0, -1):\n",
        "        if verify_otp(otp, prompt_to_enter_otp()):\n",
        "            print(\"\\u2705 OTP verified successfully!\")  # Success message\n",
        "            return\n",
        "        else:\n",
        "            print(f\"\\u274C Incorrect OTP. You've ({attempts_left - 1}) Attempts left.\")  # Error message"
      ],
      "metadata": {
        "id": "RCcAlkOaBPem"
      },
      "execution_count": 7,
      "outputs": []
    },
    {
      "cell_type": "code",
      "source": [
        "otp_verification()"
      ],
      "metadata": {
        "id": "rCPOXstKBWop",
        "outputId": "03c2a4ca-ce62-4411-b3ae-ef14dc38a639",
        "colab": {
          "base_uri": "https://localhost:8080/"
        }
      },
      "execution_count": null,
      "outputs": [
        {
          "output_type": "stream",
          "name": "stdout",
          "text": [
            "OTP Verification\n",
            "\n"
          ]
        }
      ]
    },
    {
      "cell_type": "code",
      "source": [],
      "metadata": {
        "id": "XAQBFdkYBbEt"
      },
      "execution_count": null,
      "outputs": []
    }
  ],
  "metadata": {
    "colab": {
      "provenance": []
    },
    "kernelspec": {
      "display_name": "Python 3",
      "name": "python3"
    }
  },
  "nbformat": 4,
  "nbformat_minor": 0
}